{
  "nbformat": 4,
  "nbformat_minor": 0,
  "metadata": {
    "colab": {
      "provenance": [],
      "authorship_tag": "ABX9TyPA7pfeHgRuE1tJYK2RjXw/",
      "include_colab_link": true
    },
    "kernelspec": {
      "name": "python3",
      "display_name": "Python 3"
    },
    "language_info": {
      "name": "python"
    }
  },
  "cells": [
    {
      "cell_type": "markdown",
      "metadata": {
        "id": "view-in-github",
        "colab_type": "text"
      },
      "source": [
        "<a href=\"https://colab.research.google.com/github/AffanA2003/20-ntu-cs-1091/blob/main/model3.ipynb\" target=\"_parent\"><img src=\"https://colab.research.google.com/assets/colab-badge.svg\" alt=\"Open In Colab\"/></a>"
      ]
    },
    {
      "cell_type": "code",
      "execution_count": 1,
      "metadata": {
        "id": "Z3xRUcSGURB2"
      },
      "outputs": [],
      "source": [
        "import pandas as pd\n",
        "import cv2\n",
        "import tensorflow as tf\n",
        "from tensorflow.keras import layers\n",
        "import os\n",
        "import cv2\n",
        "import numpy as np\n",
        "import shutil"
      ]
    },
    {
      "cell_type": "code",
      "source": [
        "dataset_csv = \"dataset.csv\"\n",
        "dataframe = pd.read_csv(dataset_csv)"
      ],
      "metadata": {
        "id": "p-OHy_KqVs0S"
      },
      "execution_count": 2,
      "outputs": []
    },
    {
      "cell_type": "code",
      "source": [
        "image_paths = dataframe['filename'].values\n",
        "widths = dataframe['width'].values\n",
        "heights = dataframe['height'].values\n",
        "x_coordinates = dataframe['region_shape_attributes'].apply(lambda x: eval(x)['x']).values\n",
        "y_coordinates = dataframe['region_shape_attributes'].apply(lambda x: eval(x)['y']).values\n",
        "widths = dataframe['region_shape_attributes'].apply(lambda x: eval(x)['width']).values\n",
        "heights = dataframe['region_shape_attributes'].apply(lambda x: eval(x)['height']).values"
      ],
      "metadata": {
        "id": "HGXXnTaaWJ46"
      },
      "execution_count": 3,
      "outputs": []
    },
    {
      "cell_type": "code",
      "source": [
        "\n",
        "\n",
        "def copy_images(directory):\n",
        "    # Create a new directory for saving the copied images\n",
        "    output_directory = directory + \"_copy\"\n",
        "    os.makedirs(output_directory, exist_ok=True)\n",
        "\n",
        "    # Get the list of image files in the directory\n",
        "    image_files = [file for file in os.listdir(directory) if file.endswith((\".jpg\", \".jpeg\", \".png\"))]\n",
        "\n",
        "    # Copy each image to the output directory\n",
        "    for image_file in image_files:\n",
        "        # Source and destination paths\n",
        "        source_path = os.path.join(directory, image_file)\n",
        "        destination_path = os.path.join(output_directory, image_file)\n",
        "        \n",
        "        # Copy the image file\n",
        "        shutil.copy2(source_path, destination_path)\n",
        "\n",
        "    print(\"Image copying completed. Copied images are saved in:\", output_directory)\n",
        "\n",
        "# Example usage\n",
        "\n"
      ],
      "metadata": {
        "id": "wPAt5uJdWZ3g"
      },
      "execution_count": 4,
      "outputs": []
    },
    {
      "cell_type": "code",
      "source": [
        "image_directory = \"images/\"\n",
        "copy_images(image_directory)"
      ],
      "metadata": {
        "colab": {
          "base_uri": "https://localhost:8080/"
        },
        "id": "TMm0w7J1XuP6",
        "outputId": "015598ef-3406-471e-e8dd-6d6cbfbafecf"
      },
      "execution_count": 5,
      "outputs": [
        {
          "output_type": "stream",
          "name": "stdout",
          "text": [
            "Image copying completed. Copied images are saved in: images/_copy\n"
          ]
        }
      ]
    },
    {
      "cell_type": "code",
      "source": [
        "def load_images_from_directory(directory):\n",
        "    image_files = [file for file in os.listdir(directory) if file.endswith((\".jpg\", \".jpeg\", \".png\"))]\n",
        "    images = []\n",
        "    for image_file in image_files:\n",
        "        image_path = os.path.join(directory, image_file)\n",
        "        image = cv2.imread(image_path)\n",
        "        images.append(image)\n",
        "    return images"
      ],
      "metadata": {
        "id": "MKdmcYJdYZZz"
      },
      "execution_count": 6,
      "outputs": []
    },
    {
      "cell_type": "code",
      "source": [
        "def load_labels_from_csv(csv_file):\n",
        "    dataframe = pd.read_csv(csv_file)\n",
        "    labels = dataframe['region_attributes'].apply(lambda x: eval(x)['status']).values\n",
        "    return labels\n"
      ],
      "metadata": {
        "id": "lOEbIcvoYsmB"
      },
      "execution_count": 7,
      "outputs": []
    },
    {
      "cell_type": "code",
      "source": [
        "import torch\n",
        "import torch.nn as nn\n",
        "import torch.optim as optim\n",
        "from torch.utils.data import Dataset, DataLoader\n",
        "\n",
        "# Define your custom dataset\n",
        "class CustomDataset(Dataset):\n",
        "    def __init__(self, image_directory, csv_file):\n",
        "        # Load images and labels from the directory and CSV file\n",
        "        # Implement your logic here\n",
        "\n",
        "    def __len__(self):\n",
        "        # Return the total number of samples in the dataset\n",
        "        # Implement your logic here\n",
        "\n",
        "    def __getitem__(self, index):\n",
        "        # Return a sample from the dataset based on the given index\n",
        "        # Implement your logic here\n",
        "\n",
        "# Create an instance of your custom dataset\n",
        "dataset = CustomDataset(image_directory, csv_file)\n",
        "\n",
        "# Split the dataset into training and validation sets\n",
        "train_size = int(0.8 * len(dataset))\n",
        "val_size = len(dataset) - train_size\n",
        "train_dataset, val_dataset = torch.utils.data.random_split(dataset, [train_size, val_size])\n",
        "\n",
        "# Create data loaders for training and validation sets\n",
        "train_loader = DataLoader(train_dataset, batch_size=32, shuffle=True)\n",
        "val_loader = DataLoader(val_dataset, batch_size=32, shuffle=False)\n",
        "\n",
        "# Define your model architecture\n",
        "model = nn.Sequential(\n",
        "    # Add your desired layers to the model\n",
        "    nn.Conv2d(3, 32, kernel_size=3, stride=1, padding=1),\n",
        "    nn.ReLU(),\n",
        "    # ...\n",
        "    # Modify and add more layers as per your requirements\n",
        "    nn.Flatten(),\n",
        "    nn.Linear(32 * height * width, 1),\n",
        "    nn.Sigmoid()\n",
        ")\n",
        "\n",
        "# Define the loss function and optimizer\n",
        "criterion = nn.BCELoss()\n",
        "optimizer = optim.Adam(model.parameters(), lr=0.001)\n",
        "\n",
        "# Train the model\n",
        "for epoch in range(10):\n",
        "    train_loss = 0.0\n",
        "    val_loss = 0.0\n",
        "\n",
        "    model.train()\n",
        "    for images, labels in train_loader:\n",
        "        optimizer.zero_grad()\n",
        "        outputs = model(images)\n",
        "        loss = criterion(outputs, labels.float().unsqueeze(1))\n",
        "        loss.backward()\n",
        "        optimizer.step()\n",
        "        train_loss += loss.item() * images.size(0)\n",
        "\n",
        "    model.eval()\n",
        "    with torch.no_grad():\n",
        "        for images, labels in val_loader:\n",
        "            outputs = model(images)\n",
        "            loss = criterion(outputs, labels.float().unsqueeze(1))\n",
        "            val_loss += loss.item() * images.size(0)\n",
        "\n",
        "    train_loss /= len(train_dataset)\n",
        "    val_loss /= len(val_dataset)\n",
        "\n",
        "    print(f\"Epoch {epoch+1}: Train Loss: {train_loss:.4f}, Val Loss: {val_loss:.4f}\")\n",
        "\n",
        "# Save the trained model\n",
        "torch.save(model.state_dict(), \"path/to/save/model.pth\")\n"
      ],
      "metadata": {
        "id": "9GIXHGOtfXcz"
      },
      "execution_count": null,
      "outputs": []
    }
  ]
}